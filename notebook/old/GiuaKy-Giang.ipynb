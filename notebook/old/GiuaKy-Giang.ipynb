{
 "cells": [
  {
   "cell_type": "markdown",
   "metadata": {},
   "source": [
    "# Get Coin, Stock and Gold"
   ]
  },
  {
   "cell_type": "markdown",
   "metadata": {},
   "source": [
    "## Get coin"
   ]
  },
  {
   "cell_type": "code",
   "execution_count": 1,
   "metadata": {},
   "outputs": [],
   "source": [
    "# Chuẩn bị thư viện\n",
    "import numpy as np\n",
    "import pandas as pd\n",
    "import matplotlib.pyplot as plt\n",
    "import requests\n",
    "# from vnstock3 import Vnstock\n",
    "from datetime import date\n",
    "from bs4 import BeautifulSoup\n",
    "import datetime\n",
    "import time\n",
    "import json\n",
    "import websocket\n",
    "# from binance.client import Client\n",
    "import scipy\n",
    "import plyer\n",
    "# from pycoingecko import CoinGeckoAPI\n",
    "import yfinance as yf\n",
    "import pandas_datareader as pdr\n",
    "import quandl"
   ]
  },
  {
   "cell_type": "code",
   "execution_count": 2,
   "metadata": {},
   "outputs": [
    {
     "name": "stdout",
     "output_type": "stream",
     "text": [
      "BTCUSDT price is 57772.01000000\n"
     ]
    }
   ],
   "source": [
    "# Defining Binance API URL \n",
    "key = \"https://api.binance.com/api/v3/ticker/price?symbol=\"\n",
    "\n",
    "# Making list for multiple crypto's \n",
    "currencies = [\"BTCUSDT\"] \n",
    "j = 0\n",
    "\n",
    "# running loop to print all crypto prices \n",
    "for i in currencies: \n",
    "    # completing API for request \n",
    "    url = key+currencies[j] \n",
    "    data = requests.get(url) \n",
    "    data = data.json() \n",
    "    j = j+1\n",
    "    print(f\"{data['symbol']} price is {data['price']}\") "
   ]
  },
  {
   "cell_type": "code",
   "execution_count": 3,
   "metadata": {},
   "outputs": [
    {
     "data": {
      "text/html": [
       "<div>\n",
       "<style scoped>\n",
       "    .dataframe tbody tr th:only-of-type {\n",
       "        vertical-align: middle;\n",
       "    }\n",
       "\n",
       "    .dataframe tbody tr th {\n",
       "        vertical-align: top;\n",
       "    }\n",
       "\n",
       "    .dataframe thead th {\n",
       "        text-align: right;\n",
       "    }\n",
       "</style>\n",
       "<table border=\"1\" class=\"dataframe\">\n",
       "  <thead>\n",
       "    <tr style=\"text-align: right;\">\n",
       "      <th></th>\n",
       "      <th>id</th>\n",
       "      <th>symbol</th>\n",
       "      <th>name</th>\n",
       "    </tr>\n",
       "  </thead>\n",
       "  <tbody>\n",
       "    <tr>\n",
       "      <th>0</th>\n",
       "      <td>01coin</td>\n",
       "      <td>zoc</td>\n",
       "      <td>01coin</td>\n",
       "    </tr>\n",
       "    <tr>\n",
       "      <th>1</th>\n",
       "      <td>0chain</td>\n",
       "      <td>zcn</td>\n",
       "      <td>Zus</td>\n",
       "    </tr>\n",
       "    <tr>\n",
       "      <th>2</th>\n",
       "      <td>0dog</td>\n",
       "      <td>0dog</td>\n",
       "      <td>Bitcoin Dogs</td>\n",
       "    </tr>\n",
       "    <tr>\n",
       "      <th>3</th>\n",
       "      <td>0-knowledge-network</td>\n",
       "      <td>0kn</td>\n",
       "      <td>0 Knowledge Network</td>\n",
       "    </tr>\n",
       "    <tr>\n",
       "      <th>4</th>\n",
       "      <td>0-mee</td>\n",
       "      <td>ome</td>\n",
       "      <td>O-MEE</td>\n",
       "    </tr>\n",
       "  </tbody>\n",
       "</table>\n",
       "</div>"
      ],
      "text/plain": [
       "                    id symbol                 name\n",
       "0               01coin    zoc               01coin\n",
       "1               0chain    zcn                  Zus\n",
       "2                 0dog   0dog         Bitcoin Dogs\n",
       "3  0-knowledge-network    0kn  0 Knowledge Network\n",
       "4                0-mee    ome                O-MEE"
      ]
     },
     "execution_count": 3,
     "metadata": {},
     "output_type": "execute_result"
    }
   ],
   "source": [
    "# Danh sách coin từ coingecko\n",
    "key = \"https://api.coingecko.com/api/v3/coins/list\"\n",
    "data = requests.get(key) \n",
    "data = data.json() \n",
    "df = pd.DataFrame(data)\n",
    "df.head()"
   ]
  },
  {
   "cell_type": "code",
   "execution_count": 4,
   "metadata": {},
   "outputs": [
    {
     "data": {
      "text/plain": [
       "0     zoc\n",
       "1     zcn\n",
       "2    0dog\n",
       "3     0kn\n",
       "4     ome\n",
       "dtype: object"
      ]
     },
     "execution_count": 4,
     "metadata": {},
     "output_type": "execute_result"
    }
   ],
   "source": [
    "# Danh sách đồng tiền số\n",
    "df1 = df[\"symbol\"].unique()\n",
    "df1 = pd.Series(df1)\n",
    "df1.head()"
   ]
  },
  {
   "cell_type": "code",
   "execution_count": 58,
   "metadata": {},
   "outputs": [
    {
     "data": {
      "text/plain": [
       "11441"
      ]
     },
     "execution_count": 58,
     "metadata": {},
     "output_type": "execute_result"
    }
   ],
   "source": [
    "# Số lượng coin\n",
    "df[\"symbol\"].nunique()"
   ]
  },
  {
   "cell_type": "code",
   "execution_count": 6,
   "metadata": {},
   "outputs": [
    {
     "name": "stderr",
     "output_type": "stream",
     "text": [
      "C:\\Users\\ASUS\\Anaconda3\\lib\\site-packages\\ipykernel_launcher.py:2: FutureWarning: The signature of `Series.to_csv` was aligned to that of `DataFrame.to_csv`, and argument 'header' will change its default value from False to True: please pass an explicit value to suppress this warning.\n",
      "  \n"
     ]
    }
   ],
   "source": [
    "# Lưu giữ file csv\n",
    "df1.to_csv(\"list_coin.csv\")"
   ]
  },
  {
   "cell_type": "code",
   "execution_count": 7,
   "metadata": {},
   "outputs": [],
   "source": [
    "# Lưu trữ file excel\n",
    "df1.to_excel(\"list_coin.xlsx\")"
   ]
  },
  {
   "cell_type": "code",
   "execution_count": 5,
   "metadata": {},
   "outputs": [
    {
     "data": {
      "text/html": [
       "<div>\n",
       "<style scoped>\n",
       "    .dataframe tbody tr th:only-of-type {\n",
       "        vertical-align: middle;\n",
       "    }\n",
       "\n",
       "    .dataframe tbody tr th {\n",
       "        vertical-align: top;\n",
       "    }\n",
       "\n",
       "    .dataframe thead th {\n",
       "        text-align: right;\n",
       "    }\n",
       "</style>\n",
       "<table border=\"1\" class=\"dataframe\">\n",
       "  <thead>\n",
       "    <tr style=\"text-align: right;\">\n",
       "      <th></th>\n",
       "      <th>symbol</th>\n",
       "      <th>open</th>\n",
       "      <th>high</th>\n",
       "      <th>low</th>\n",
       "      <th>close</th>\n",
       "    </tr>\n",
       "    <tr>\n",
       "      <th>time</th>\n",
       "      <th></th>\n",
       "      <th></th>\n",
       "      <th></th>\n",
       "      <th></th>\n",
       "      <th></th>\n",
       "    </tr>\n",
       "  </thead>\n",
       "  <tbody>\n",
       "    <tr>\n",
       "      <th>2024-09-01 12:00:00</th>\n",
       "      <td>donkee</td>\n",
       "      <td>0.000038</td>\n",
       "      <td>0.000038</td>\n",
       "      <td>0.000037</td>\n",
       "      <td>0.000038</td>\n",
       "    </tr>\n",
       "    <tr>\n",
       "      <th>2024-09-01 16:00:00</th>\n",
       "      <td>donkee</td>\n",
       "      <td>0.000038</td>\n",
       "      <td>0.000038</td>\n",
       "      <td>0.000037</td>\n",
       "      <td>0.000038</td>\n",
       "    </tr>\n",
       "    <tr>\n",
       "      <th>2024-09-01 20:00:00</th>\n",
       "      <td>donkee</td>\n",
       "      <td>0.000038</td>\n",
       "      <td>0.000038</td>\n",
       "      <td>0.000037</td>\n",
       "      <td>0.000038</td>\n",
       "    </tr>\n",
       "    <tr>\n",
       "      <th>2024-09-02 00:00:00</th>\n",
       "      <td>donkee</td>\n",
       "      <td>0.000038</td>\n",
       "      <td>0.000038</td>\n",
       "      <td>0.000035</td>\n",
       "      <td>0.000036</td>\n",
       "    </tr>\n",
       "    <tr>\n",
       "      <th>2024-09-02 04:00:00</th>\n",
       "      <td>donkee</td>\n",
       "      <td>0.000036</td>\n",
       "      <td>0.000037</td>\n",
       "      <td>0.000036</td>\n",
       "      <td>0.000037</td>\n",
       "    </tr>\n",
       "  </tbody>\n",
       "</table>\n",
       "</div>"
      ],
      "text/plain": [
       "                     symbol      open      high       low     close\n",
       "time                                                               \n",
       "2024-09-01 12:00:00  donkee  0.000038  0.000038  0.000037  0.000038\n",
       "2024-09-01 16:00:00  donkee  0.000038  0.000038  0.000037  0.000038\n",
       "2024-09-01 20:00:00  donkee  0.000038  0.000038  0.000037  0.000038\n",
       "2024-09-02 00:00:00  donkee  0.000038  0.000038  0.000035  0.000036\n",
       "2024-09-02 04:00:00  donkee  0.000036  0.000037  0.000036  0.000037"
      ]
     },
     "execution_count": 5,
     "metadata": {},
     "output_type": "execute_result"
    }
   ],
   "source": [
    "# Dữ liệu từ coingecko\n",
    "cg = CoinGeckoAPI()\n",
    "symbol = \"donkee\"\n",
    "df = pd.DataFrame(cg.get_coin_ohlc_by_id(id = symbol, vs_currency = \"usd\", days = \"30\")) # 30 ngày gần nhất\n",
    "df.columns = [\"time\", \"open\", \"high\", \"low\", \"close\"]\n",
    "df[\"time\"] = pd.to_datetime(df[\"time\"], unit = \"ms\")\n",
    "df.set_index(\"time\", inplace = True)\n",
    "df.insert(0, 'symbol', symbol)\n",
    "df.tail()"
   ]
  },
  {
   "cell_type": "markdown",
   "metadata": {},
   "source": [
    "## Get gold"
   ]
  },
  {
   "cell_type": "code",
   "execution_count": 2,
   "metadata": {},
   "outputs": [
    {
     "name": "stderr",
     "output_type": "stream",
     "text": [
      "[*********************100%***********************]  1 of 1 completed\n"
     ]
    },
    {
     "data": {
      "image/png": "[encoded data removed]",
      "text/plain": [
       "<Figure size 1000x600 with 1 Axes>"
      ]
     },
     "metadata": {},
     "output_type": "display_data"
    }
   ],
   "source": [
    "# Use the correct ticker symbol for gold, for example, 'GC=F' (Gold Futures)\n",
    "# https://pypi.org/project/yfinance/\n",
    "gold_ticker = 'GC=F'\n",
    "# Fetch historical data\n",
    "gold_data = yf.download(gold_ticker, start=\"2000-01-01\", end=\"2024-12-01\")\n",
    "# Plotting\n",
    "plt.figure(figsize=(10, 6))\n",
    "plt.plot(gold_data['Close'], label='Gold Price', color='gold')\n",
    "plt.title('Gold Price Trend Over Time')\n",
    "plt.xlabel('Date')\n",
    "plt.ylabel('Gold Price (USD)')\n",
    "plt.legend()\n",
    "plt.grid(True)\n",
    "plt.show()"
   ]
  },
  {
   "cell_type": "code",
   "execution_count": 3,
   "metadata": {},
   "outputs": [
    {
     "name": "stderr",
     "output_type": "stream",
     "text": [
      "[*********************100%***********************]  1 of 1 completed\n"
     ]
    },
    {
     "data": {
      "text/html": [
       "<div>\n",
       "<style scoped>\n",
       "    .dataframe tbody tr th:only-of-type {\n",
       "        vertical-align: middle;\n",
       "    }\n",
       "\n",
       "    .dataframe tbody tr th {\n",
       "        vertical-align: top;\n",
       "    }\n",
       "\n",
       "    .dataframe thead th {\n",
       "        text-align: right;\n",
       "    }\n",
       "</style>\n",
       "<table border=\"1\" class=\"dataframe\">\n",
       "  <thead>\n",
       "    <tr style=\"text-align: right;\">\n",
       "      <th></th>\n",
       "      <th>Open</th>\n",
       "      <th>High</th>\n",
       "      <th>Low</th>\n",
       "      <th>Close</th>\n",
       "      <th>Adj Close</th>\n",
       "      <th>Volume</th>\n",
       "    </tr>\n",
       "    <tr>\n",
       "      <th>Date</th>\n",
       "      <th></th>\n",
       "      <th></th>\n",
       "      <th></th>\n",
       "      <th></th>\n",
       "      <th></th>\n",
       "      <th></th>\n",
       "    </tr>\n",
       "  </thead>\n",
       "  <tbody>\n",
       "    <tr>\n",
       "      <th>2024-11-06</th>\n",
       "      <td>2734.500000</td>\n",
       "      <td>2734.500000</td>\n",
       "      <td>2659.399902</td>\n",
       "      <td>2667.600098</td>\n",
       "      <td>2667.600098</td>\n",
       "      <td>427</td>\n",
       "    </tr>\n",
       "    <tr>\n",
       "      <th>2024-11-07</th>\n",
       "      <td>2662.500000</td>\n",
       "      <td>2699.100098</td>\n",
       "      <td>2662.500000</td>\n",
       "      <td>2698.399902</td>\n",
       "      <td>2698.399902</td>\n",
       "      <td>676</td>\n",
       "    </tr>\n",
       "    <tr>\n",
       "      <th>2024-11-08</th>\n",
       "      <td>2688.500000</td>\n",
       "      <td>2694.600098</td>\n",
       "      <td>2682.899902</td>\n",
       "      <td>2687.500000</td>\n",
       "      <td>2687.500000</td>\n",
       "      <td>1038</td>\n",
       "    </tr>\n",
       "    <tr>\n",
       "      <th>2024-11-11</th>\n",
       "      <td>2671.699951</td>\n",
       "      <td>2671.699951</td>\n",
       "      <td>2611.199951</td>\n",
       "      <td>2611.199951</td>\n",
       "      <td>2611.199951</td>\n",
       "      <td>1038</td>\n",
       "    </tr>\n",
       "    <tr>\n",
       "      <th>2024-11-12</th>\n",
       "      <td>2625.699951</td>\n",
       "      <td>2633.399902</td>\n",
       "      <td>2596.699951</td>\n",
       "      <td>2598.000000</td>\n",
       "      <td>2598.000000</td>\n",
       "      <td>78989</td>\n",
       "    </tr>\n",
       "  </tbody>\n",
       "</table>\n",
       "</div>"
      ],
      "text/plain": [
       "                   Open         High          Low        Close    Adj Close  \\\n",
       "Date                                                                          \n",
       "2024-11-06  2734.500000  2734.500000  2659.399902  2667.600098  2667.600098   \n",
       "2024-11-07  2662.500000  2699.100098  2662.500000  2698.399902  2698.399902   \n",
       "2024-11-08  2688.500000  2694.600098  2682.899902  2687.500000  2687.500000   \n",
       "2024-11-11  2671.699951  2671.699951  2611.199951  2611.199951  2611.199951   \n",
       "2024-11-12  2625.699951  2633.399902  2596.699951  2598.000000  2598.000000   \n",
       "\n",
       "            Volume  \n",
       "Date                \n",
       "2024-11-06     427  \n",
       "2024-11-07     676  \n",
       "2024-11-08    1038  \n",
       "2024-11-11    1038  \n",
       "2024-11-12   78989  "
      ]
     },
     "execution_count": 3,
     "metadata": {},
     "output_type": "execute_result"
    }
   ],
   "source": [
    "gold_data = yf.download(gold_ticker, start=\"2000-01-01\", end=\"2024-12-01\")\n",
    "gold_data.tail()"
   ]
  },
  {
   "cell_type": "code",
   "execution_count": 4,
   "metadata": {},
   "outputs": [],
   "source": [
    "gold_data.to_csv('D:/thuantt2/Document/Big_data_project/data/gold_data202411.csv')"
   ]
  },
  {
   "cell_type": "code",
   "execution_count": 8,
   "metadata": {},
   "outputs": [
    {
     "name": "stderr",
     "output_type": "stream",
     "text": [
      "[*********************100%***********************]  1 of 1 completed\n"
     ]
    },
    {
     "data": {
      "image/png": "[encoded data removed]",
      "text/plain": [
       "<Figure size 720x504 with 1 Axes>"
      ]
     },
     "metadata": {
      "needs_background": "light"
     },
     "output_type": "display_data"
    }
   ],
   "source": [
    "Df = yf.download('GLD', '2008-01-01', '2024-12-01', auto_adjust=True)\n",
    "\n",
    "# Only keep close columns\n",
    "Df = Df[['Close']]\n",
    "\n",
    "# Drop rows with missing values\n",
    "Df = Df.dropna()\n",
    "\n",
    "# Plot the closing price of GLD\n",
    "Df.Close.plot(figsize=(10, 7),color='r')\n",
    "plt.ylabel(\"Gold ETF Prices\")\n",
    "plt.title(\"Gold ETF Price Series\")\n",
    "plt.show()"
   ]
  },
  {
   "cell_type": "markdown",
   "metadata": {},
   "source": [
    "## Get USA stock price"
   ]
  },
  {
   "cell_type": "code",
   "execution_count": 9,
   "metadata": {},
   "outputs": [
    {
     "data": {
      "text/plain": [
       "<matplotlib.axes._subplots.AxesSubplot at 0x1403a7edcc8>"
      ]
     },
     "execution_count": 9,
     "metadata": {},
     "output_type": "execute_result"
    },
    {
     "data": {
      "image/png": "[encoded data removed]",
      "text/plain": [
       "<Figure size 432x288 with 1 Axes>"
      ]
     },
     "metadata": {
      "needs_background": "light"
     },
     "output_type": "display_data"
    }
   ],
   "source": [
    "# https://www.relataly.com/using-pandas-datareader-in-python/10934/\n",
    "# https://www.kaggle.com/code/berkayalan/remote-data-access-with-pandas-beginner\n",
    "# end = datetime.date.today()\n",
    "\n",
    "# start = datetime.date(year=2023, month=12, day=30)\n",
    "# More information of the datasource:\n",
    "spx_index = pdr.get_data_stooq('^SPX', start = \"2023-12-01\", end = \"2023-12-31\")\n",
    "spx_index['Close'].plot(title='1 year price history for index S&P500')"
   ]
  },
  {
   "cell_type": "code",
   "execution_count": 10,
   "metadata": {},
   "outputs": [
    {
     "name": "stderr",
     "output_type": "stream",
     "text": [
      "[*********************100%***********************]  1 of 1 completed\n"
     ]
    },
    {
     "data": {
      "text/html": [
       "<div>\n",
       "<style scoped>\n",
       "    .dataframe tbody tr th:only-of-type {\n",
       "        vertical-align: middle;\n",
       "    }\n",
       "\n",
       "    .dataframe tbody tr th {\n",
       "        vertical-align: top;\n",
       "    }\n",
       "\n",
       "    .dataframe thead th {\n",
       "        text-align: right;\n",
       "    }\n",
       "</style>\n",
       "<table border=\"1\" class=\"dataframe\">\n",
       "  <thead>\n",
       "    <tr style=\"text-align: right;\">\n",
       "      <th></th>\n",
       "      <th>Open</th>\n",
       "      <th>High</th>\n",
       "      <th>Low</th>\n",
       "      <th>Close</th>\n",
       "      <th>Adj Close</th>\n",
       "      <th>Volume</th>\n",
       "    </tr>\n",
       "    <tr>\n",
       "      <th>Date</th>\n",
       "      <th></th>\n",
       "      <th></th>\n",
       "      <th></th>\n",
       "      <th></th>\n",
       "      <th></th>\n",
       "      <th></th>\n",
       "    </tr>\n",
       "  </thead>\n",
       "  <tbody>\n",
       "    <tr>\n",
       "      <th>2024-08-26</th>\n",
       "      <td>5639.660156</td>\n",
       "      <td>5651.620117</td>\n",
       "      <td>5602.339844</td>\n",
       "      <td>5616.839844</td>\n",
       "      <td>5616.839844</td>\n",
       "      <td>2938570000</td>\n",
       "    </tr>\n",
       "    <tr>\n",
       "      <th>2024-08-27</th>\n",
       "      <td>5602.890137</td>\n",
       "      <td>5631.180176</td>\n",
       "      <td>5593.479980</td>\n",
       "      <td>5625.799805</td>\n",
       "      <td>5625.799805</td>\n",
       "      <td>2798990000</td>\n",
       "    </tr>\n",
       "    <tr>\n",
       "      <th>2024-08-28</th>\n",
       "      <td>5624.509766</td>\n",
       "      <td>5627.029785</td>\n",
       "      <td>5560.950195</td>\n",
       "      <td>5592.180176</td>\n",
       "      <td>5592.180176</td>\n",
       "      <td>3053450000</td>\n",
       "    </tr>\n",
       "    <tr>\n",
       "      <th>2024-08-29</th>\n",
       "      <td>5607.299805</td>\n",
       "      <td>5646.950195</td>\n",
       "      <td>5583.709961</td>\n",
       "      <td>5591.959961</td>\n",
       "      <td>5591.959961</td>\n",
       "      <td>3065640000</td>\n",
       "    </tr>\n",
       "    <tr>\n",
       "      <th>2024-08-30</th>\n",
       "      <td>5612.740234</td>\n",
       "      <td>5651.370117</td>\n",
       "      <td>5581.790039</td>\n",
       "      <td>5648.399902</td>\n",
       "      <td>5648.399902</td>\n",
       "      <td>4185850000</td>\n",
       "    </tr>\n",
       "  </tbody>\n",
       "</table>\n",
       "</div>"
      ],
      "text/plain": [
       "                   Open         High          Low        Close    Adj Close  \\\n",
       "Date                                                                          \n",
       "2024-08-26  5639.660156  5651.620117  5602.339844  5616.839844  5616.839844   \n",
       "2024-08-27  5602.890137  5631.180176  5593.479980  5625.799805  5625.799805   \n",
       "2024-08-28  5624.509766  5627.029785  5560.950195  5592.180176  5592.180176   \n",
       "2024-08-29  5607.299805  5646.950195  5583.709961  5591.959961  5591.959961   \n",
       "2024-08-30  5612.740234  5651.370117  5581.790039  5648.399902  5648.399902   \n",
       "\n",
       "                Volume  \n",
       "Date                    \n",
       "2024-08-26  2938570000  \n",
       "2024-08-27  2798990000  \n",
       "2024-08-28  3053450000  \n",
       "2024-08-29  3065640000  \n",
       "2024-08-30  4185850000  "
      ]
     },
     "execution_count": 10,
     "metadata": {},
     "output_type": "execute_result"
    }
   ],
   "source": [
    "data = yf.download(\"^SPX\", period=\"1mo\") # 1 tháng\n",
    "data.tail()"
   ]
  },
  {
   "cell_type": "markdown",
   "metadata": {},
   "source": [
    "## Get VN stock price"
   ]
  },
  {
   "cell_type": "code",
   "execution_count": null,
   "metadata": {},
   "outputs": [],
   "source": []
  },
  {
   "cell_type": "code",
   "execution_count": null,
   "metadata": {},
   "outputs": [],
   "source": []
  },
  {
   "cell_type": "code",
   "execution_count": null,
   "metadata": {},
   "outputs": [],
   "source": []
  },
  {
   "cell_type": "code",
   "execution_count": null,
   "metadata": {},
   "outputs": [],
   "source": []
  },
  {
   "cell_type": "code",
   "execution_count": null,
   "metadata": {},
   "outputs": [],
   "source": []
  }
 ],
 "metadata": {
  "kernelspec": {
   "display_name": "thuantran",
   "language": "python",
   "name": "python3"
  },
  "language_info": {
   "codemirror_mode": {
    "name": "ipython",
    "version": 3
   },
   "file_extension": ".py",
   "mimetype": "text/x-python",
   "name": "python",
   "nbconvert_exporter": "python",
   "pygments_lexer": "ipython3",
   "version": "3.7.16"
  }
 },
 "nbformat": 4,
 "nbformat_minor": 4
}
