{
 "cells": [
  {
   "cell_type": "code",
   "execution_count": 59,
   "id": "fcb8415f-ee20-43d5-af6d-604f8a864b19",
   "metadata": {},
   "outputs": [],
   "source": [
    "import pandas as pd\n",
    "import numpy as np\n",
    "from datetime import datetime\n",
    "from sklearn.preprocessing import MinMaxScaler\n",
    "from tensorflow.keras.models import Sequential\n",
    "from tensorflow.keras import layers\n",
    "from tensorflow.keras.optimizers import Adam\n",
    "import pmdarima as pm"
   ]
  },
  {
   "cell_type": "code",
   "execution_count": 2,
   "id": "bafdbd7e-6c80-401e-88ac-cc048d2feebb",
   "metadata": {},
   "outputs": [],
   "source": [
    "from tensorflow.keras.models import load_model"
   ]
  },
  {
   "cell_type": "markdown",
   "id": "75b7f76e-873c-4ce0-8b44-a2dd1f59771d",
   "metadata": {
    "tags": []
   },
   "source": [
    "# Model LTSM"
   ]
  },
  {
   "cell_type": "code",
   "execution_count": 3,
   "id": "99b188b3-773a-4cca-876d-f0f5865bd0ab",
   "metadata": {},
   "outputs": [
    {
     "data": {
      "text/html": [
       "<div>\n",
       "<style scoped>\n",
       "    .dataframe tbody tr th:only-of-type {\n",
       "        vertical-align: middle;\n",
       "    }\n",
       "\n",
       "    .dataframe tbody tr th {\n",
       "        vertical-align: top;\n",
       "    }\n",
       "\n",
       "    .dataframe thead th {\n",
       "        text-align: right;\n",
       "    }\n",
       "</style>\n",
       "<table border=\"1\" class=\"dataframe\">\n",
       "  <thead>\n",
       "    <tr style=\"text-align: right;\">\n",
       "      <th></th>\n",
       "      <th>Date</th>\n",
       "      <th>symbol</th>\n",
       "      <th>Open</th>\n",
       "      <th>High</th>\n",
       "      <th>Low</th>\n",
       "      <th>Close</th>\n",
       "      <th>Adj Close</th>\n",
       "      <th>Volume</th>\n",
       "    </tr>\n",
       "  </thead>\n",
       "  <tbody>\n",
       "    <tr>\n",
       "      <th>0</th>\n",
       "      <td>8/30/2000</td>\n",
       "      <td>GC=F</td>\n",
       "      <td>273.899994</td>\n",
       "      <td>273.899994</td>\n",
       "      <td>273.899994</td>\n",
       "      <td>273.899994</td>\n",
       "      <td>273.899994</td>\n",
       "      <td>0</td>\n",
       "    </tr>\n",
       "    <tr>\n",
       "      <th>1</th>\n",
       "      <td>8/31/2000</td>\n",
       "      <td>GC=F</td>\n",
       "      <td>274.799988</td>\n",
       "      <td>278.299988</td>\n",
       "      <td>274.799988</td>\n",
       "      <td>278.299988</td>\n",
       "      <td>278.299988</td>\n",
       "      <td>0</td>\n",
       "    </tr>\n",
       "    <tr>\n",
       "      <th>2</th>\n",
       "      <td>9/1/2000</td>\n",
       "      <td>GC=F</td>\n",
       "      <td>277.000000</td>\n",
       "      <td>277.000000</td>\n",
       "      <td>277.000000</td>\n",
       "      <td>277.000000</td>\n",
       "      <td>277.000000</td>\n",
       "      <td>0</td>\n",
       "    </tr>\n",
       "    <tr>\n",
       "      <th>3</th>\n",
       "      <td>9/5/2000</td>\n",
       "      <td>GC=F</td>\n",
       "      <td>275.799988</td>\n",
       "      <td>275.799988</td>\n",
       "      <td>275.799988</td>\n",
       "      <td>275.799988</td>\n",
       "      <td>275.799988</td>\n",
       "      <td>2</td>\n",
       "    </tr>\n",
       "    <tr>\n",
       "      <th>4</th>\n",
       "      <td>9/6/2000</td>\n",
       "      <td>GC=F</td>\n",
       "      <td>274.200012</td>\n",
       "      <td>274.200012</td>\n",
       "      <td>274.200012</td>\n",
       "      <td>274.200012</td>\n",
       "      <td>274.200012</td>\n",
       "      <td>0</td>\n",
       "    </tr>\n",
       "  </tbody>\n",
       "</table>\n",
       "</div>"
      ],
      "text/plain": [
       "        Date symbol        Open        High         Low       Close  \\\n",
       "0  8/30/2000   GC=F  273.899994  273.899994  273.899994  273.899994   \n",
       "1  8/31/2000   GC=F  274.799988  278.299988  274.799988  278.299988   \n",
       "2   9/1/2000   GC=F  277.000000  277.000000  277.000000  277.000000   \n",
       "3   9/5/2000   GC=F  275.799988  275.799988  275.799988  275.799988   \n",
       "4   9/6/2000   GC=F  274.200012  274.200012  274.200012  274.200012   \n",
       "\n",
       "    Adj Close  Volume  \n",
       "0  273.899994       0  \n",
       "1  278.299988       0  \n",
       "2  277.000000       0  \n",
       "3  275.799988       2  \n",
       "4  274.200012       0  "
      ]
     },
     "execution_count": 3,
     "metadata": {},
     "output_type": "execute_result"
    }
   ],
   "source": [
    "df = pd.read_csv('D:/thuantt2/Document/Big_data_project/data/gold_data.csv')\n",
    "df.head()"
   ]
  },
  {
   "cell_type": "code",
   "execution_count": 4,
   "id": "171927e8-e53c-48f0-98fe-29a9902baf99",
   "metadata": {},
   "outputs": [
    {
     "data": {
      "text/html": [
       "<div>\n",
       "<style scoped>\n",
       "    .dataframe tbody tr th:only-of-type {\n",
       "        vertical-align: middle;\n",
       "    }\n",
       "\n",
       "    .dataframe tbody tr th {\n",
       "        vertical-align: top;\n",
       "    }\n",
       "\n",
       "    .dataframe thead th {\n",
       "        text-align: right;\n",
       "    }\n",
       "</style>\n",
       "<table border=\"1\" class=\"dataframe\">\n",
       "  <thead>\n",
       "    <tr style=\"text-align: right;\">\n",
       "      <th></th>\n",
       "      <th>Date</th>\n",
       "      <th>Close</th>\n",
       "    </tr>\n",
       "  </thead>\n",
       "  <tbody>\n",
       "    <tr>\n",
       "      <th>0</th>\n",
       "      <td>8/30/2000</td>\n",
       "      <td>273.899994</td>\n",
       "    </tr>\n",
       "    <tr>\n",
       "      <th>1</th>\n",
       "      <td>8/31/2000</td>\n",
       "      <td>278.299988</td>\n",
       "    </tr>\n",
       "    <tr>\n",
       "      <th>2</th>\n",
       "      <td>9/1/2000</td>\n",
       "      <td>277.000000</td>\n",
       "    </tr>\n",
       "    <tr>\n",
       "      <th>3</th>\n",
       "      <td>9/5/2000</td>\n",
       "      <td>275.799988</td>\n",
       "    </tr>\n",
       "    <tr>\n",
       "      <th>4</th>\n",
       "      <td>9/6/2000</td>\n",
       "      <td>274.200012</td>\n",
       "    </tr>\n",
       "  </tbody>\n",
       "</table>\n",
       "</div>"
      ],
      "text/plain": [
       "        Date       Close\n",
       "0  8/30/2000  273.899994\n",
       "1  8/31/2000  278.299988\n",
       "2   9/1/2000  277.000000\n",
       "3   9/5/2000  275.799988\n",
       "4   9/6/2000  274.200012"
      ]
     },
     "execution_count": 4,
     "metadata": {},
     "output_type": "execute_result"
    }
   ],
   "source": [
    "df = df[['Date', 'Close']]\n",
    "df.head()"
   ]
  },
  {
   "cell_type": "code",
   "execution_count": 5,
   "id": "d768867d-6b3d-4feb-aa47-53ce7dd45e9d",
   "metadata": {},
   "outputs": [
    {
     "data": {
      "text/plain": [
       "dtype('O')"
      ]
     },
     "execution_count": 5,
     "metadata": {},
     "output_type": "execute_result"
    }
   ],
   "source": [
    "df.Date.dtype"
   ]
  },
  {
   "cell_type": "code",
   "execution_count": 6,
   "id": "854c22aa-cf22-4c7e-b0bb-f1b2b4ebb374",
   "metadata": {},
   "outputs": [],
   "source": [
    "df.Date = df.Date.apply(lambda x: datetime.strptime(x, '%m/%d/%Y'))"
   ]
  },
  {
   "cell_type": "code",
   "execution_count": 7,
   "id": "06b13723-adbd-40c9-9a2a-2d87337a3ae9",
   "metadata": {},
   "outputs": [
    {
     "data": {
      "text/plain": [
       "dtype('<M8[ns]')"
      ]
     },
     "execution_count": 7,
     "metadata": {},
     "output_type": "execute_result"
    }
   ],
   "source": [
    "df.Date.dtype"
   ]
  },
  {
   "cell_type": "code",
   "execution_count": 8,
   "id": "e4a4297a-ce58-44ed-8551-8f7a835f957a",
   "metadata": {},
   "outputs": [
    {
     "data": {
      "text/html": [
       "<div>\n",
       "<style scoped>\n",
       "    .dataframe tbody tr th:only-of-type {\n",
       "        vertical-align: middle;\n",
       "    }\n",
       "\n",
       "    .dataframe tbody tr th {\n",
       "        vertical-align: top;\n",
       "    }\n",
       "\n",
       "    .dataframe thead th {\n",
       "        text-align: right;\n",
       "    }\n",
       "</style>\n",
       "<table border=\"1\" class=\"dataframe\">\n",
       "  <thead>\n",
       "    <tr style=\"text-align: right;\">\n",
       "      <th></th>\n",
       "      <th>Close</th>\n",
       "    </tr>\n",
       "    <tr>\n",
       "      <th>Date</th>\n",
       "      <th></th>\n",
       "    </tr>\n",
       "  </thead>\n",
       "  <tbody>\n",
       "    <tr>\n",
       "      <th>2000-08-30</th>\n",
       "      <td>273.899994</td>\n",
       "    </tr>\n",
       "    <tr>\n",
       "      <th>2000-08-31</th>\n",
       "      <td>278.299988</td>\n",
       "    </tr>\n",
       "    <tr>\n",
       "      <th>2000-09-01</th>\n",
       "      <td>277.000000</td>\n",
       "    </tr>\n",
       "    <tr>\n",
       "      <th>2000-09-05</th>\n",
       "      <td>275.799988</td>\n",
       "    </tr>\n",
       "    <tr>\n",
       "      <th>2000-09-06</th>\n",
       "      <td>274.200012</td>\n",
       "    </tr>\n",
       "    <tr>\n",
       "      <th>...</th>\n",
       "      <td>...</td>\n",
       "    </tr>\n",
       "    <tr>\n",
       "      <th>2024-08-27</th>\n",
       "      <td>2516.000000</td>\n",
       "    </tr>\n",
       "    <tr>\n",
       "      <th>2024-08-28</th>\n",
       "      <td>2501.000000</td>\n",
       "    </tr>\n",
       "    <tr>\n",
       "      <th>2024-08-29</th>\n",
       "      <td>2525.699951</td>\n",
       "    </tr>\n",
       "    <tr>\n",
       "      <th>2024-08-30</th>\n",
       "      <td>2493.800049</td>\n",
       "    </tr>\n",
       "    <tr>\n",
       "      <th>2024-09-02</th>\n",
       "      <td>2529.800049</td>\n",
       "    </tr>\n",
       "  </tbody>\n",
       "</table>\n",
       "<p>6024 rows × 1 columns</p>\n",
       "</div>"
      ],
      "text/plain": [
       "                  Close\n",
       "Date                   \n",
       "2000-08-30   273.899994\n",
       "2000-08-31   278.299988\n",
       "2000-09-01   277.000000\n",
       "2000-09-05   275.799988\n",
       "2000-09-06   274.200012\n",
       "...                 ...\n",
       "2024-08-27  2516.000000\n",
       "2024-08-28  2501.000000\n",
       "2024-08-29  2525.699951\n",
       "2024-08-30  2493.800049\n",
       "2024-09-02  2529.800049\n",
       "\n",
       "[6024 rows x 1 columns]"
      ]
     },
     "execution_count": 8,
     "metadata": {},
     "output_type": "execute_result"
    }
   ],
   "source": [
    "df.index = df.pop('Date')\n",
    "df"
   ]
  },
  {
   "cell_type": "code",
   "execution_count": 9,
   "id": "ec92f1b3-de1f-4ea4-b5b1-764a205488eb",
   "metadata": {},
   "outputs": [],
   "source": [
    "scaler = MinMaxScaler(feature_range=(0,1))\n",
    "scaled_data = scaler.fit_transform(df[[\"Close\"]])"
   ]
  },
  {
   "cell_type": "code",
   "execution_count": 15,
   "id": "5bed821a-1e64-4ae5-820d-9e14e711ae72",
   "metadata": {},
   "outputs": [
    {
     "data": {
      "text/plain": [
       "6024"
      ]
     },
     "execution_count": 15,
     "metadata": {},
     "output_type": "execute_result"
    }
   ],
   "source": [
    "len(scaled_data)"
   ]
  },
  {
   "cell_type": "code",
   "execution_count": 45,
   "id": "0f6f86a4-b327-4730-9745-791449cdb562",
   "metadata": {},
   "outputs": [
    {
     "data": {
      "text/plain": [
       "array([[0.00826482],\n",
       "       [0.01019914],\n",
       "       [0.00962764],\n",
       "       ...,\n",
       "       [0.99819752],\n",
       "       [0.98417374],\n",
       "       [1.        ]])"
      ]
     },
     "execution_count": 45,
     "metadata": {},
     "output_type": "execute_result"
    }
   ],
   "source": [
    "scaled_data"
   ]
  },
  {
   "cell_type": "code",
   "execution_count": 18,
   "id": "6d73e113-444f-4913-aa87-7bd66e294989",
   "metadata": {},
   "outputs": [],
   "source": [
    "# scaled_data[i-100:i]"
   ]
  },
  {
   "cell_type": "code",
   "execution_count": 19,
   "id": "316cc5e1-ba9e-46e1-babc-ccd8c77f925a",
   "metadata": {},
   "outputs": [
    {
     "data": {
      "text/plain": [
       "array([0.00413241])"
      ]
     },
     "execution_count": 19,
     "metadata": {},
     "output_type": "execute_result"
    }
   ],
   "source": [
    "scaled_data[100]"
   ]
  },
  {
   "cell_type": "code",
   "execution_count": 20,
   "id": "b08170af-e86b-440b-af12-f53cd577cd80",
   "metadata": {},
   "outputs": [],
   "source": [
    "x_data = []\n",
    "y_data = []\n",
    "\n",
    "for i in range(100, len(scaled_data)):\n",
    "    x_data.append(scaled_data[i-100:i])\n",
    "    y_data.append(scaled_data[i])\n",
    "x_data, y_data = np.array(x_data), np.array(y_data)"
   ]
  },
  {
   "cell_type": "code",
   "execution_count": 27,
   "id": "141db21e-afd4-439c-af6e-a1b0fc17051e",
   "metadata": {},
   "outputs": [
    {
     "data": {
      "text/plain": [
       "5924"
      ]
     },
     "execution_count": 27,
     "metadata": {},
     "output_type": "execute_result"
    }
   ],
   "source": [
    "int(len(x_data))"
   ]
  },
  {
   "cell_type": "code",
   "execution_count": 11,
   "id": "fad0b367-e98f-4645-b6de-1406c941a8d6",
   "metadata": {},
   "outputs": [],
   "source": [
    "splitting_len = int(len(x_data)*0.8)\n",
    "x_train = x_data[:splitting_len]\n",
    "y_train = y_data[:splitting_len]\n",
    "\n",
    "x_test = x_data[splitting_len:]\n",
    "y_test = y_data[splitting_len:]"
   ]
  },
  {
   "cell_type": "code",
   "execution_count": 30,
   "id": "c0d0eb53-1d2e-4782-8641-d235a62626be",
   "metadata": {},
   "outputs": [
    {
     "data": {
      "text/plain": [
       "4739"
      ]
     },
     "execution_count": 30,
     "metadata": {},
     "output_type": "execute_result"
    }
   ],
   "source": [
    "len(x_train)"
   ]
  },
  {
   "cell_type": "code",
   "execution_count": 31,
   "id": "810acdfb-5822-4303-a452-ea8935a1331d",
   "metadata": {},
   "outputs": [
    {
     "data": {
      "text/plain": [
       "1185"
      ]
     },
     "execution_count": 31,
     "metadata": {},
     "output_type": "execute_result"
    }
   ],
   "source": [
    "len(x_test)"
   ]
  },
  {
   "cell_type": "code",
   "execution_count": 36,
   "id": "87132bb0-1460-46a1-9e39-e4c4fc1e6ba3",
   "metadata": {},
   "outputs": [
    {
     "data": {
      "text/plain": [
       "(4739, 100, 1)"
      ]
     },
     "execution_count": 36,
     "metadata": {},
     "output_type": "execute_result"
    }
   ],
   "source": [
    "x_train.shape"
   ]
  },
  {
   "cell_type": "code",
   "execution_count": 47,
   "id": "c5a8426a-d160-46da-a6ba-7872608bd979",
   "metadata": {},
   "outputs": [
    {
     "name": "stdout",
     "output_type": "stream",
     "text": [
      "Model: \"sequential_5\"\n",
      "_________________________________________________________________\n",
      " Layer (type)                Output Shape              Param #   \n",
      "=================================================================\n",
      " lstm_5 (LSTM)               (None, 64)                16896     \n",
      "                                                                 \n",
      " dense_15 (Dense)            (None, 32)                2080      \n",
      "                                                                 \n",
      " dense_16 (Dense)            (None, 32)                1056      \n",
      "                                                                 \n",
      " dense_17 (Dense)            (None, 1)                 33        \n",
      "                                                                 \n",
      "=================================================================\n",
      "Total params: 20,065\n",
      "Trainable params: 20,065\n",
      "Non-trainable params: 0\n",
      "_________________________________________________________________\n"
     ]
    }
   ],
   "source": [
    "# define model\n",
    "model = Sequential([layers.Input((100, 1)),\n",
    "                    layers.LSTM(64),\n",
    "                    layers.Dense(32, activation='relu'),\n",
    "                    layers.Dense(32, activation='relu'),\n",
    "                    layers.Dense(1)])\n",
    "\n",
    "model.compile(loss='mse',\n",
    "              optimizer=Adam(learning_rate=0.001),\n",
    "              metrics=['mean_absolute_error'])\n",
    "\n",
    "model.summary()"
   ]
  },
  {
   "cell_type": "code",
   "execution_count": 48,
   "id": "1225509d-8260-4aaf-b933-c8dec6bee07c",
   "metadata": {},
   "outputs": [
    {
     "name": "stdout",
     "output_type": "stream",
     "text": [
      "Epoch 1/2\n",
      "48/48 [==============================] - 12s 131ms/step - loss: 0.0181 - mean_absolute_error: 0.0850\n",
      "Epoch 2/2\n",
      "48/48 [==============================] - 6s 120ms/step - loss: 1.9523e-04 - mean_absolute_error: 0.0104\n"
     ]
    },
    {
     "data": {
      "text/plain": [
       "<keras.callbacks.History at 0x23d63809588>"
      ]
     },
     "execution_count": 48,
     "metadata": {},
     "output_type": "execute_result"
    }
   ],
   "source": [
    "# fit model\n",
    "model.fit(x_train, y_train, batch_size = x_train.shape[1], epochs = 2)"
   ]
  },
  {
   "cell_type": "code",
   "execution_count": 51,
   "id": "2483f71e-ab38-48e9-84fd-5cc2a0abd71e",
   "metadata": {},
   "outputs": [],
   "source": [
    "model.save('D:/thuantt2/Document/Big_data_project/model/my_model.h5', overwrite=True)"
   ]
  },
  {
   "cell_type": "code",
   "execution_count": 52,
   "id": "3aa8e606-4a48-45ba-8b21-e8398169d071",
   "metadata": {},
   "outputs": [],
   "source": [
    "model=load_model('D:/thuantt2/Document/Big_data_project/model/my_model.h5')"
   ]
  },
  {
   "cell_type": "code",
   "execution_count": 53,
   "id": "6f2d34ad-f4c5-4328-86ce-b2473d66bb29",
   "metadata": {},
   "outputs": [
    {
     "name": "stdout",
     "output_type": "stream",
     "text": [
      "38/38 [==============================] - 2s 29ms/step\n"
     ]
    },
    {
     "data": {
      "text/plain": [
       "array([[0.53208965],\n",
       "       [0.53221786],\n",
       "       [0.5325202 ],\n",
       "       ...,\n",
       "       [0.8959967 ],\n",
       "       [0.89760137],\n",
       "       [0.89818984]], dtype=float32)"
      ]
     },
     "execution_count": 53,
     "metadata": {},
     "output_type": "execute_result"
    }
   ],
   "source": [
    "model.predict(x_test)"
   ]
  },
  {
   "cell_type": "markdown",
   "id": "3e9a4591-8881-4c98-a53e-7590a71a86fb",
   "metadata": {},
   "source": [
    "# Model ARIMA"
   ]
  },
  {
   "cell_type": "code",
   "execution_count": 54,
   "id": "145aaae0-d659-4135-a73b-ffe6b97c67fe",
   "metadata": {},
   "outputs": [],
   "source": [
    "r_t = np.log(df['Close']/df['Close'].shift(1))\n",
    "mean = np.nanmean(r_t)"
   ]
  },
  {
   "cell_type": "code",
   "execution_count": 56,
   "id": "3236f894-44ed-4790-8307-0d708f5dec35",
   "metadata": {},
   "outputs": [
    {
     "data": {
      "text/plain": [
       "6024"
      ]
     },
     "execution_count": 56,
     "metadata": {},
     "output_type": "execute_result"
    }
   ],
   "source": [
    "scaled_data = df[[\"Close\"]]\n",
    "scaled_data = scaled_data.fillna(0).to_numpy()\n",
    "len(scaled_data)"
   ]
  },
  {
   "cell_type": "code",
   "execution_count": 57,
   "id": "d757b28b-db71-4ffc-83bd-4530323523e1",
   "metadata": {},
   "outputs": [],
   "source": [
    "splitting_len = int(len(scaled_data)*0.8)\n",
    "y_train = scaled_data[:splitting_len]\n",
    "y_test = scaled_data[splitting_len:]"
   ]
  },
  {
   "cell_type": "code",
   "execution_count": 58,
   "id": "77af6064-4a92-4da4-a21e-e623ae76a2a5",
   "metadata": {},
   "outputs": [
    {
     "name": "stderr",
     "output_type": "stream",
     "text": [
      "C:\\Users\\LAP13398-local\\anaconda3\\envs\\thuantran\\lib\\site-packages\\statsmodels\\graphics\\tsaplots.py:353: FutureWarning: The default method 'yw' can produce PACF values outside of the [-1,1] interval. After 0.13, the default will change tounadjusted Yule-Walker ('ywm'). You can use this method now by setting method='ywm'.\n",
      "  FutureWarning,\n"
     ]
    },
    {
     "data": {
      "image/png": "[encoded data removed]",
      "text/plain": [
       "<Figure size 640x480 with 1 Axes>"
      ]
     },
     "metadata": {},
     "output_type": "display_data"
    },
    {
     "data": {
      "image/png": "[encoded data removed]",
      "text/plain": [
       "<Figure size 640x480 with 1 Axes>"
      ]
     },
     "metadata": {},
     "output_type": "display_data"
    }
   ],
   "source": [
    "from statsmodels.graphics.tsaplots import plot_acf, plot_pacf\n",
    "acf_original = plot_acf(y_train)\n",
    "pacf_original = plot_pacf(y_train)"
   ]
  },
  {
   "cell_type": "code",
   "execution_count": 60,
   "id": "ef5c0d58-c06b-4c65-a7b4-31d6ad4e1852",
   "metadata": {},
   "outputs": [],
   "source": [
    "# Fit your model\n",
    "model1 = pm.auto_arima(y_train, stepwise=False, seasonal=False)"
   ]
  },
  {
   "cell_type": "code",
   "execution_count": null,
   "id": "f44e62e6-805e-4727-b7d1-4880f2bf6668",
   "metadata": {},
   "outputs": [],
   "source": []
  }
 ],
 "metadata": {
  "kernelspec": {
   "display_name": "Python 3 (ipykernel)",
   "language": "python",
   "name": "python3"
  },
  "language_info": {
   "codemirror_mode": {
    "name": "ipython",
    "version": 3
   },
   "file_extension": ".py",
   "mimetype": "text/x-python",
   "name": "python",
   "nbconvert_exporter": "python",
   "pygments_lexer": "ipython3",
   "version": "3.7.16"
  }
 },
 "nbformat": 4,
 "nbformat_minor": 5
}
